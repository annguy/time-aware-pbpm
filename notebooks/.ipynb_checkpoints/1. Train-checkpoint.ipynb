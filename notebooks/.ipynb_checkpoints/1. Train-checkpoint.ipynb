{
 "cells": [
  {
   "cell_type": "markdown",
   "metadata": {},
   "source": [
    "# Enhancing Customer Experience- Deep Learning for Predictive Business Process Monitoring\n",
    "\n",
    "Training Demo\n",
    "\n",
    "\n",
    "This notebook shows how to:\n",
    "    1. import the source code files\n",
    "    2. import the data\n",
    "    3. perform exploratory data analysis on the data \n",
    "    4. train the deep learning models \n",
    "    \n",
    "Getting Started:\n",
    "    1. Create new environment using the environment.yml --> 'conda env create -f environment.yml' \n",
    "    Link:: https://docs.conda.io/projects/conda/en/latest/user-guide/tasks/manage-environments.html#creating-an-environment-from-an-environment-yml-file\n",
    "    \n",
    "    \n",
    "    2. Install src in the new environment -->'pip install.'"
   ]
  },
  {
   "cell_type": "code",
   "execution_count": 1,
   "metadata": {},
   "outputs": [],
   "source": [
    "#Import Libraries\n",
    "import os\n",
    "os.environ['TF_CPP_MIN_LOG_LEVEL'] = '1' \n",
    "import tensorflow as tf\n",
    "from src.Data.Datahandler import Datahandler\n",
    "from src.Features.ComputeCW import *\n",
    "from src.Features.Preprocess import *\n",
    "from src.Features.Preprocess_Context import *\n",
    "from src.Hyperparameter.Hyperparameter import *\n",
    "from src.Models.Model import *\n",
    "from src.Models.Time_Model import *\n",
    "from src.Models.TLSTM_Models import *\n",
    "from src.Models.Test import NextStep, Remaining_Step\n",
    "from src.Evaluates.Evaluate import Nextstep_eval,Remainstep_eval\n",
    "from tensorboard.plugins.hparams import api as hp\n",
    "import pickle\n",
    "from src.Models.Test_Context import *"
   ]
  },
  {
   "cell_type": "markdown",
   "metadata": {},
   "source": [
    "The Helpdesk.csv dataset is used here for demo purpose. Other clean datasets can be loaded and experiments can be performed."
   ]
  },
  {
   "cell_type": "markdown",
   "metadata": {},
   "source": [
    "# Data Load"
   ]
  },
  {
   "cell_type": "code",
   "execution_count": 2,
   "metadata": {},
   "outputs": [],
   "source": [
    "#Import data from file\n",
    "os.chdir('..')\n",
    "#Restart the kernel and re-run the whole notebook incase the directory location is not correct\n",
    "\n",
    "\n",
    "hidden_vector=5 #Embedding Dimension\n",
    "\n",
    "\n",
    "\n",
    "\n",
    "#Reading the Data\n",
    "#Enter the name of the dataset from the data/processed section: \n",
    "eventlog='helpdesk.csv'\n",
    "F = Datahandler()\n",
    "name=F.read_data(eventlog)"
   ]
  },
  {
   "cell_type": "markdown",
   "metadata": {},
   "source": [
    "The context in the helpdesk.csv dataset is product information. The next section decides whether the data has context and processes the data further."
   ]
  },
  {
   "cell_type": "code",
   "execution_count": 3,
   "metadata": {},
   "outputs": [
    {
     "name": "stdout",
     "output_type": "stream",
     "text": [
      "No context\n",
      "Number of Unique Activities 9\n",
      "Only relevant during training phase\n",
      "Embedding Size 5\n",
      "divisor: 210915.5199854121\n",
      "divisor2: 409874.9012399708\n",
      "divisor3: 405646.8071511121\n",
      "maxlen 15\n",
      "['!', '¢', '£', '¤', '¥', '¦', '§', '¨', '©', 'ª']\n",
      "total chars: 9, target chars: 10\n",
      "charecter_indices {'¢': 0, '£': 1, '¤': 2, '¥': 3, '¦': 4, '§': 5, '¨': 6, '©': 7, 'ª': 8}\n",
      "nb sequences: 9181\n",
      "num features: 6\n"
     ]
    }
   ],
   "source": [
    "if 'product' in F.spamread.columns:\n",
    "        num_features=7\n",
    "        print('Context Data')\n",
    "        factor=F.context_factor()\n",
    "        spamreader,max_task = F.log2np(hidden_vector)\n",
    "        D=Preprocess_Context()\n",
    "        divisor,divisor2,divisor3 = D.divisor_cal(spamreader)\n",
    "        maxlen,chars,target_chars,char_indices,indices_char,target_char_indices,target_indices_char= D.dict_cal()\n",
    "        X,y_a,y_t=D.training_set(factor,num_features)\n",
    "        \n",
    "else:  \n",
    "    print('No context')\n",
    "    num_features=6\n",
    "    spamreader,max_task = F.log2np(hidden_vector)\n",
    "    D=Preprocess()\n",
    "    divisor,divisor2,divisor3 = D.divisor_cal(spamreader)\n",
    "    maxlen,chars,target_chars,char_indices,indices_char,target_char_indices,target_indices_char= D.dict_cal()\n",
    "    X,y_a,y_t=D.training_set(num_features)"
   ]
  },
  {
   "cell_type": "code",
   "execution_count": 4,
   "metadata": {},
   "outputs": [
    {
     "name": "stdout",
     "output_type": "stream",
     "text": [
      "Dataset helpdesk\n",
      "Number of Instances: 3804\n",
      "Case_Variant: 154\n",
      "Unique Activities: 9\n",
      "Events: 13710\n",
      "Average Case length: 3.6041009463722395\n",
      "Maximum Case length: 14\n",
      "Minimum Case length: 1\n",
      "Max time per case: 55 days 22:15:16\n",
      "Min time per case: 0 days 00:00:00\n",
      "Average time per case: 10 days 06:05:13.897155\n"
     ]
    }
   ],
   "source": [
    "#Some Statistics of the data\n",
    "spamread=F.spamread\n",
    "x=spamread.groupby('CaseID')['ActivityID'].apply(list)\n",
    "(unique, counts) = np.unique(x, return_counts=True)\n",
    "spamread['CompleteTimestamp']=pd.to_datetime(spamread['CompleteTimestamp'],dayfirst=True)\n",
    "spamread['diff'] = spamread.sort_values(['CaseID','CompleteTimestamp']).groupby('CaseID')['CompleteTimestamp'].diff()\n",
    "spamread['duration'] = spamread.groupby('CaseID')['diff'].transform('sum')\n",
    "\n",
    "\n",
    "\n",
    "##HelpDesk Dataset\n",
    "print('Dataset',name)\n",
    "print('Number of Instances:',len(spamread.groupby(['CaseID']).count()))\n",
    "print('Case_Variant:',len(unique))\n",
    "print('Unique Activities:',len(spamread['ActivityID'].unique()))\n",
    "print('Events:',len(spamread))\n",
    "print('Average Case length:',np.mean(spamread.groupby(['CaseID'])['ActivityID'].count()))\n",
    "print('Maximum Case length:',np.max(spamread.groupby(['CaseID'])['ActivityID'].count()))\n",
    "print('Minimum Case length:',np.min(spamread.groupby(['CaseID'])['ActivityID'].count()))\n",
    "print('Max time per case:',spamread['duration'].max())\n",
    "print('Min time per case:',spamread['duration'].min())\n",
    "print('Average time per case:',spamread['duration'].mean())"
   ]
  },
  {
   "cell_type": "code",
   "execution_count": 5,
   "metadata": {},
   "outputs": [
    {
     "data": {
      "image/png": "[encoded data removed]",
      "text/plain": [
       "<Figure size 1080x360 with 1 Axes>"
      ]
     },
     "metadata": {
      "needs_background": "light"
     },
     "output_type": "display_data"
    }
   ],
   "source": [
    "Step_length=spamread.groupby('CaseID')['ActivityID'].count()\n",
    "Step_length = pd.DataFrame({'CaseID':Step_length.index, 'Steps':Step_length.values})\n",
    "hist  = Step_length['Steps'].tolist()\n",
    "f=plt.figure(figsize=[15,5])\n",
    "plt.gcf().subplots_adjust(bottom=0.15)\n",
    "plt.hist(hist , bins = 25)\n",
    "#plt.xlim(left = 0, right = 20)\n",
    "plt.tick_params(axis='both', which='major', labelsize=18)\n",
    "plt.xlabel('Sequence Length',fontsize=20)\n",
    "plt.ylabel('Number of Sequences',fontsize=20)\n",
    "plt.title('Length of Sequences Helpdesk',fontsize=20)\n",
    "plt.show()"
   ]
  },
  {
   "cell_type": "markdown",
   "metadata": {},
   "source": [
    "# Activity (Event Class) Distribution in the Dataset\n",
    "The data is divided into 2/3rd Training and 1/3rd Testset"
   ]
  },
  {
   "cell_type": "code",
   "execution_count": 6,
   "metadata": {},
   "outputs": [
    {
     "data": {
      "text/plain": [
       "Text(0, 0.5, 'Number of Occurances')"
      ]
     },
     "execution_count": 6,
     "metadata": {},
     "output_type": "execute_result"
    },
    {
     "data": {
      "image/png": "[encoded data removed]",
      "text/plain": [
       "<Figure size 720x360 with 1 Axes>"
      ]
     },
     "metadata": {
      "needs_background": "light"
     },
     "output_type": "display_data"
    }
   ],
   "source": [
    "Dataset=pd.DataFrame(spamread.groupby('CaseID')['ActivityID'].apply(pd.Series))\n",
    "Train_1,Train_2,Test=np.array_split(Dataset, 3)\n",
    "Train = pd.concat([Train_1,Train_2])\n",
    "hist1  = Train['ActivityID'].tolist()\n",
    "hist2 = Test['ActivityID'].tolist()\n",
    "f=plt.figure(figsize=[10,5])\n",
    "plt.gcf().subplots_adjust(bottom=0.15)\n",
    "plt.hist([hist1,hist2],bins=15,label=['Train_set','Test_set'])\n",
    "plt.grid()\n",
    "plt.tick_params(axis='both', which='major', labelsize=18)\n",
    "plt.title(\"Activity Histogram Helpdesk\",fontsize=20)\n",
    "plt.legend(loc='upper right',fontsize=20)\n",
    "plt.xlabel('ActivityID',fontsize=20)\n",
    "plt.ylabel('Number of Occurances',fontsize=20)"
   ]
  },
  {
   "cell_type": "markdown",
   "metadata": {},
   "source": [
    "# Train one of the models with 2/3rd of the input data\n",
    "\n",
    "1. Hyperparamters can be set in this section\n",
    "2. A specific model can be selected\n",
    "3. Training history is stored"
   ]
  },
  {
   "cell_type": "code",
   "execution_count": 7,
   "metadata": {},
   "outputs": [
    {
     "name": "stdout",
     "output_type": "stream",
     "text": [
      "Please Select model: 1.EmbedModel, 2.Class_Weighted, 3.FC_Time, 4.CNN_Time, 5.SharedTLSTM,  6.TM_TLSTM,  7.All_TLSTM:  8.Dummy: 8\n",
      "{'num_units': 64, 'dropout': 0.0, 'optimizer': 'nadam', 'learning_rate': 0.01}\n",
      "Build model...\n",
      "Model: \"model\"\n",
      "__________________________________________________________________________________________________\n",
      "Layer (type)                    Output Shape         Param #     Connected to                     \n",
      "==================================================================================================\n",
      "main_input (InputLayer)         [(None, 15, 6)]      0                                            \n",
      "__________________________________________________________________________________________________\n",
      "flatten (Flatten)               (None, 90)           0           main_input[0][0]                 \n",
      "__________________________________________________________________________________________________\n",
      "act_output (Dense)              (None, 10)           910         flatten[0][0]                    \n",
      "__________________________________________________________________________________________________\n",
      "time_output (Dense)             (None, 1)            91          flatten[0][0]                    \n",
      "==================================================================================================\n",
      "Total params: 1,001\n",
      "Trainable params: 1,001\n",
      "Non-trainable params: 0\n",
      "__________________________________________________________________________________________________\n",
      "Train on 7344 samples, validate on 1837 samples\n",
      "Epoch 1/5\n",
      "7344/7344 - 4s - loss: 2.0570 - act_output_loss: 0.9851 - time_output_loss: 1.0717 - val_loss: 1.8635 - val_act_output_loss: 0.8230 - val_time_output_loss: 1.0346\n",
      "Epoch 2/5\n",
      "7344/7344 - 3s - loss: 1.9055 - act_output_loss: 0.8449 - time_output_loss: 1.0616 - val_loss: 1.9620 - val_act_output_loss: 0.8262 - val_time_output_loss: 1.1300\n",
      "Epoch 3/5\n",
      "7344/7344 - 3s - loss: 1.8872 - act_output_loss: 0.8308 - time_output_loss: 1.0571 - val_loss: 1.8635 - val_act_output_loss: 0.8263 - val_time_output_loss: 1.0313\n",
      "Epoch 4/5\n",
      "7344/7344 - 3s - loss: 1.8754 - act_output_loss: 0.8198 - time_output_loss: 1.0561 - val_loss: 1.8646 - val_act_output_loss: 0.8310 - val_time_output_loss: 1.0274\n",
      "Epoch 5/5\n",
      "7344/7344 - 3s - loss: 1.8744 - act_output_loss: 0.8215 - time_output_loss: 1.0539 - val_loss: 1.9501 - val_act_output_loss: 0.8588 - val_time_output_loss: 1.0859\n"
     ]
    }
   ],
   "source": [
    "#Selectbest Hyperparameter_Tuning\n",
    "HP_NUM_UNITS = hp.HParam('num_units', hp.Discrete([64]))\n",
    "HP_DROPOUT = hp.HParam('dropout', hp.Discrete([0.0]))\n",
    "HP_OPTIMIZER = hp.HParam('optimizer', hp.Discrete(['nadam']))\n",
    "HP_LEARNING_RATE = hp.HParam('learning_rate', hp.Discrete([0.01]))\n",
    "\n",
    "\n",
    "#Model Selection\n",
    "model_choice = input( \"Please Select model: 1.EmbedModel, 2.Class_Weighted, 3.FC_Time, 4.CNN_Time, 5.SharedTLSTM,  6.TM_TLSTM,  7.All_TLSTM:  8.Dummy: \")\n",
    "\n",
    "\n",
    "#Training\n",
    "if model_choice == '1':\n",
    "\n",
    "   def run(hparams):   \n",
    "        M=EmbedModel(X,y_a,y_t,maxlen,hidden_vector,max_task,target_chars,name,num_features)\n",
    "        M.train(hparams,HP_NUM_UNITS,HP_DROPOUT, HP_OPTIMIZER,HP_LEARNING_RATE)\n",
    "\n",
    "\n",
    "\n",
    "\n",
    "elif model_choice == '2':\n",
    "    cw=ComputeCW()\n",
    "    class_weights=cw.compute_class_weight(F.spamread)\n",
    "    print('class_weights are: ', class_weights)        \n",
    "    def run(hparams):   \n",
    "        M=CWModel(X,y_a,y_t,maxlen,hidden_vector,max_task,target_chars,name,num_features)\n",
    "        M.train(class_weights,hparams,HP_NUM_UNITS,HP_DROPOUT, HP_OPTIMIZER,HP_LEARNING_RATE)\n",
    "\n",
    "\n",
    "\n",
    "elif model_choice == '3':\n",
    "    cw=ComputeCW()\n",
    "    class_weights=cw.compute_class_weight(F.spamread)\n",
    "    print('class_weights are: ', class_weights)\n",
    "    def run(hparams):   \n",
    "        M=FCTModel(X,y_a,y_t,maxlen,hidden_vector,max_task,target_chars,name,num_features)\n",
    "        M.train(class_weights,hparams,HP_NUM_UNITS,HP_DROPOUT, HP_OPTIMIZER,HP_LEARNING_RATE)\n",
    "\n",
    "\n",
    "\n",
    "elif model_choice == '4':\n",
    "    cw=ComputeCW()\n",
    "    class_weights=cw.compute_class_weight(F.spamread)\n",
    "    print('class_weights are: ', class_weights)\n",
    "    def run(hparams):   \n",
    "        M=OneDCNNTModel(X,y_a,y_t,maxlen,hidden_vector,max_task,target_chars,name,num_features)\n",
    "        M.train(class_weights,hparams,HP_NUM_UNITS,HP_DROPOUT, HP_OPTIMIZER,HP_LEARNING_RATE)\n",
    "\n",
    "\n",
    "elif model_choice == '5':\n",
    "    cw=ComputeCW()\n",
    "    class_weights=cw.compute_class_weight(F.spamread)\n",
    "    print('class_weights are: ', class_weights)\n",
    "    def run(hparams):   \n",
    "        M=Sh_TLSTM_Model(X,y_a,y_t,maxlen,hidden_vector,max_task,target_chars,name,num_features)\n",
    "        M.train(class_weights,hparams,HP_NUM_UNITS,HP_DROPOUT, HP_OPTIMIZER,HP_LEARNING_RATE)\n",
    "\n",
    "\n",
    "\n",
    "\n",
    "\n",
    "elif model_choice == '6':\n",
    "    cw=ComputeCW()\n",
    "    class_weights=cw.compute_class_weight(F.spamread)\n",
    "    print('class_weights are: ', class_weights)\n",
    "    def run(hparams):   \n",
    "        M=TM_TLSTM_Model(X,y_a,y_t,maxlen,hidden_vector,max_task,target_chars,name,num_features)\n",
    "        M.train(class_weights,hparams,HP_NUM_UNITS,HP_DROPOUT, HP_OPTIMIZER,HP_LEARNING_RATE)\n",
    "\n",
    "\n",
    "\n",
    "elif model_choice == '7':\n",
    "    cw=ComputeCW()\n",
    "    class_weights=cw.compute_class_weight(F.spamread)\n",
    "    print('class_weights are: ', class_weights)\n",
    "\n",
    "    def run(hparams):   \n",
    "        M=ALL_TLSTM_Model(X,y_a,y_t,maxlen,hidden_vector,max_task,target_chars,name,num_features)\n",
    "        M.train(class_weights,hparams,HP_NUM_UNITS,HP_DROPOUT, HP_OPTIMIZER,HP_LEARNING_RATE)\n",
    "\n",
    "if model_choice == '8':\n",
    "\n",
    "   def run(hparams):   \n",
    "        M=BaselineFCModel(X,y_a,y_t,maxlen,hidden_vector,max_task,target_chars,name,num_features)\n",
    "        M.train(hparams,HP_OPTIMIZER,HP_LEARNING_RATE)\n",
    "\n",
    "\n",
    "#Training and saving history of training\n",
    "for num_units in (HP_NUM_UNITS.domain.values):\n",
    "    for dropout_rate in (HP_DROPOUT.domain.values):\n",
    "        for optimizer in HP_OPTIMIZER.domain.values:\n",
    "            for learning_rate in HP_LEARNING_RATE.domain.values: \n",
    "                hparams = {\n",
    "                  HP_NUM_UNITS:num_units,\n",
    "                  HP_DROPOUT: dropout_rate,\n",
    "                  HP_OPTIMIZER: optimizer,\n",
    "                  HP_LEARNING_RATE:learning_rate,\n",
    "              }\n",
    "            #run_name = \"run-%d\" % session_num\n",
    "                run_stat={h.name: hparams[h] for h in hparams}\n",
    "                run_name = str(run_stat.values())\n",
    "            #print('--- Starting trial: %s' % run_name)\n",
    "                print(run_stat)\n",
    "                run(hparams)"
   ]
  }
 ],
 "metadata": {
  "kernelspec": {
   "display_name": "Python [conda env:pbpm] *",
   "language": "python",
   "name": "conda-env-pbpm-py"
  },
  "language_info": {
   "codemirror_mode": {
    "name": "ipython",
    "version": 3
   },
   "file_extension": ".py",
   "mimetype": "text/x-python",
   "name": "python",
   "nbconvert_exporter": "python",
   "pygments_lexer": "ipython3",
   "version": "3.7.6"
  }
 },
 "nbformat": 4,
 "nbformat_minor": 4
}
