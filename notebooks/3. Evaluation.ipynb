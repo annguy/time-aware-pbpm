{
 "cells": [
  {
   "cell_type": "markdown",
   "metadata": {},
   "source": [
    "# Time Matters: Time-Aware LSTMs for Predictive Business Process Monitoring\n",
    "Evaluation\n",
    "\n",
    "\n",
    "This notebook shows how to:\n",
    "    1. Evaluate the performance"
   ]
  },
  {
   "cell_type": "code",
   "execution_count": null,
   "metadata": {},
   "outputs": [],
   "source": [
    "#Install Dependencies--> Refer to 1. Train.py\n",
    "#Import Libraries\n",
    "import os\n",
    "os.environ['TF_CPP_MIN_LOG_LEVEL'] = '1' \n",
    "import tensorflow as tf\n",
    "from src.Data.Datahandler import Datahandler\n",
    "from src.Features.Preprocess import *\n",
    "from src.Hyperparameter.Hyperparameter import *\n",
    "from src.Models.Model import *\n",
    "from src.Models.Test import NextStep, Remaining_Step\n",
    "from src.Evaluates.Evaluate import Nextstep_eval,Remainstep_eval\n",
    "from tensorboard.plugins.hparams import api as hp\n",
    "import pickle"
   ]
  },
  {
   "cell_type": "markdown",
   "metadata": {},
   "source": [
    "# Test Results Load\n",
    "\n",
    "    1. Evaluation type\n",
    "    2. Reading the test result files   "
   ]
  },
  {
   "cell_type": "code",
   "execution_count": null,
   "metadata": {},
   "outputs": [],
   "source": [
    "os.chdir('..')\n",
    "#Restart the kernel and re-run the whole notebook incase the directory location is not correct\n",
    "\n",
    "Eval=input('For Nextstep_Evaluation Enter 1:  ')\n",
    "print('  ')\n",
    "\n",
    "#Results/next_activity_and_time_8.Baselinehelpdesk.csv\n",
    "filename = input(\"Enter the next_step file name of the format:Results/filename.csv' : \") \n",
    "print('  ')"
   ]
  },
  {
   "cell_type": "code",
   "execution_count": null,
   "metadata": {},
   "outputs": [],
   "source": [
    "if Eval == '1':\n",
    "    try:\n",
    "        Ev=Nextstep_eval(filename)\n",
    "        Ev.read()\n",
    "        act_time=input(\"For time evaluations Enter 1, For activity related evaluations enter 2, Enter 3 for both: \")\n",
    "        if act_time=='1':\n",
    "            Ev.time()\n",
    "        elif act_time=='2':\n",
    "            Ev.activities()\n",
    "        elif act_time=='3':\n",
    "            Ev.time()\n",
    "            Ev.activities()\n",
    "    except IOError as e:\n",
    "        errno, strerror = e.args\n",
    "        print(\"I/O error({0}): {1}\".format(errno,strerror))     "
   ]
  },
  {
   "cell_type": "code",
   "execution_count": null,
   "metadata": {},
   "outputs": [],
   "source": [
    "df=Ev.df\n",
    "counter=[]\n",
    "pre=[]\n",
    "for i in df['Prefix length'].unique():\n",
    "    #print('')\n",
    "    #print('Prefix_Length',i )\n",
    "    pre.append(i)\n",
    "    x= df[df['Prefix length']==i]\n",
    "    Wrong=x[x['Groud truth']!=x['Predicted']].count()[0]\n",
    "    Correct=x[x['Groud truth']==x['Predicted']].count()[0]\n",
    "    Total=x.count()[0]\n",
    "    counter.append(Total)\n",
    "    Accuracy=(Correct/Total)*100\n",
    "g=plt.figure(figsize=[20,5])\n",
    "plt.gcf().subplots_adjust(bottom=0.15)\n",
    "plt.xticks(pre)\n",
    "plot3=plt.plot(pre,counter,'--',marker='o',markerfacecolor='r',markersize=15)\n",
    "plt.title('Sample distribution per prefix BPI12w',fontsize=20)\n",
    "plt.tick_params(axis='both', which='major', labelsize=15)\n",
    "plt.grid()\n",
    "plt.xlabel('Prefixsize',fontsize=20)\n",
    "plt.ylabel('Number of Cases',fontsize=20)\n",
    "plt.show()"
   ]
  },
  {
   "cell_type": "code",
   "execution_count": null,
   "metadata": {},
   "outputs": [],
   "source": []
  }
 ],
 "metadata": {
  "kernelspec": {
   "display_name": "Python [conda env:pbpm]",
   "language": "python",
   "name": "conda-env-pbpm-py"
  },
  "language_info": {
   "codemirror_mode": {
    "name": "ipython",
    "version": 3
   },
   "file_extension": ".py",
   "mimetype": "text/x-python",
   "name": "python",
   "nbconvert_exporter": "python",
   "pygments_lexer": "ipython3",
   "version": "3.7.6"
  },
  "pycharm": {
   "stem_cell": {
    "cell_type": "raw",
    "metadata": {
     "collapsed": false
    },
    "source": []
   }
  }
 },
 "nbformat": 4,
 "nbformat_minor": 4
}
